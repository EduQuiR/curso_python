{
 "cells": [
  {
   "cell_type": "markdown",
   "metadata": {},
   "source": [
    "### Conjuntos\n",
    "- Son colecciones desordenadas de elementos unicos, se utilizan normalmente para hacer pruebas de pertenencias a grupos y eliminacion de elementos duplicados.\n",
    "- Tambien soportan operaciones matematicas avanzadas "
   ]
  },
  {
   "cell_type": "code",
   "execution_count": 9,
   "metadata": {},
   "outputs": [
    {
     "name": "stdout",
     "output_type": "stream",
     "text": [
      "set()\n",
      "{1, 2, 3}\n",
      "{0, 1, 2, 3}\n",
      "{0, 1, 2, 3, 'h'}\n",
      "{0, 1, 2, 3, 'h', 'a'}\n",
      "(1, 2, 3, 4, 1, 4, 4, 3)\n",
      "{1, 2, 3, 4}\n",
      "(1, 1, 2, 2, 3, 3, 4, 4, 1)\n",
      "[1, 2, 3, 4]\n"
     ]
    }
   ],
   "source": [
    "conjunto = set()  \n",
    "print(conjunto)\n",
    "\n",
    "conjunto = {1,2,3}\n",
    "print(conjunto)\n",
    "\n",
    "conjunto.add(0)\n",
    "print(conjunto)\n",
    "\n",
    "conjunto.add('h')\n",
    "print(conjunto)\n",
    "\n",
    "conjunto.add('a')\n",
    "print(conjunto)\n",
    "\n",
    "#Convertin una lista a un conjunto \n",
    "lista = (1,2,3,4,1,4,4,3)\n",
    "print(lista)\n",
    "pasar_a_conjunto = set(lista)\n",
    "print(pasar_a_conjunto)\n",
    "\n",
    "\n",
    "#Convertir dentro de una lista en conjunto para luego convertir de nuevo en una lista.\n",
    "lista = (1,1,2,2,3,3,4,4,1)\n",
    "print(lista)\n",
    "lista = list(set(lista))\n",
    "print(lista)"
   ]
  },
  {
   "cell_type": "markdown",
   "metadata": {},
   "source": [
    "### Conjuntos\n",
    "El siguiente ejercicio te servirá para practicar la manipulación de conjuntos.\n",
    "\n",
    "Debes realizar las siguientes instrucciones de forma ordenada sobre la variable grupo para que el ejercicio valide correctamente:\n",
    "\n",
    "- Añade los siguientes usuarios: Ana, Ramón, Marta, Eric y David (respeta las tildes)\n",
    "\n",
    "- Elimina (*) los usuarios Mario, Miguel y Ramón.\n",
    "\n",
    "Optativo: Cuando tu solución valide, dale una vuelta de tuerca. A ver si se te ocurre alguna forma de optimizarlo utilizando listas y bucles.\n",
    "\n",
    "(*) Para eliminar un registro de un conjunto puedes utilizar su método interno conjunto.remove(\"registro\")."
   ]
  },
  {
   "cell_type": "code",
   "execution_count": 12,
   "metadata": {},
   "outputs": [
    {
     "name": "stdout",
     "output_type": "stream",
     "text": [
      "{'Andrés', 'David', 'Ana', 'Blanca', 'Marta', 'Eric'}\n"
     ]
    }
   ],
   "source": [
    "# Variables del ejercicio (no las modifiques)\n",
    "grupo = {\"Miguel\", \"Blanca\", \"Mario\", \"Andrés\"}\n",
    "\n",
    "# Completa el ejercicio\n",
    "grupo.add('Ana')\n",
    "grupo.add('Ramón')\n",
    "grupo.add('Marta')\n",
    "grupo.add('Eric')\n",
    "grupo.add('David')\n",
    "grupo.remove('Mario')\n",
    "grupo.remove('Miguel')\n",
    "grupo.remove('Ramón')\n",
    "\n",
    "print(grupo)\n"
   ]
  },
  {
   "cell_type": "code",
   "execution_count": 15,
   "metadata": {},
   "outputs": [
    {
     "name": "stdout",
     "output_type": "stream",
     "text": [
      "{'Andrés', 'Miguel', 'David', 'Ana', 'Blanca', 'Marta', 'Mario', 'Ramón', 'Eric'}\n",
      "{'Andrés', 'David', 'Ana', 'Blanca', 'Marta', 'Eric'}\n"
     ]
    }
   ],
   "source": [
    "# Variables del ejercicio (no las modifiques)\n",
    "grupo = {\"Miguel\", \"Blanca\", \"Mario\", \"Andrés\"}\n",
    " \n",
    "# Completa el ejercicio\n",
    "for usuario in [\"Ana\", \"Ramón\", \"Marta\", \"Eric\", \"David\"]:\n",
    "    grupo.add(usuario)\n",
    "\n",
    "print(grupo)\n",
    " \n",
    "for usuario in [\"Mario\", \"Miguel\", \"Ramón\"]:\n",
    "    grupo.remove(usuario)\n",
    "\n",
    "print(grupo)"
   ]
  }
 ],
 "metadata": {
  "kernelspec": {
   "display_name": "Python 3",
   "language": "python",
   "name": "python3"
  },
  "language_info": {
   "codemirror_mode": {
    "name": "ipython",
    "version": 3
   },
   "file_extension": ".py",
   "mimetype": "text/x-python",
   "name": "python",
   "nbconvert_exporter": "python",
   "pygments_lexer": "ipython3",
   "version": "3.12.1"
  }
 },
 "nbformat": 4,
 "nbformat_minor": 0
}
