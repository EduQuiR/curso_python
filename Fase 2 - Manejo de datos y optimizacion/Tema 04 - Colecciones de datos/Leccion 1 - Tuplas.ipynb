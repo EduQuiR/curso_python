{
 "cells": [
  {
   "cell_type": "markdown",
   "metadata": {},
   "source": [
    "## Tuplas\n",
    "A partir de una variable llamada tupla (la cuál no sabes qué contiene) debes imprimir por pantalla los siguientes apartados (usando un print() para cada apartado), de forma ordenada:\n",
    "\n",
    "- El último elemento de la tupla.\n",
    "\n",
    "- El número de elementos que tiene la tupla.\n",
    "\n",
    "- La posición donde se encuentra el número 123 de la tupla.\n",
    "\n",
    "- Una lista con los primeros tres elementos de la tupla.\n",
    "\n",
    "- El elemento que hay en la posición con índice 4 de la tupla.\n",
    "\n",
    "- El número de veces que aparece el número 4 en la tupla.\n",
    "\n",
    "Nota: En total son 6 prints uno debajo de otro, no puedes redefinir ni modificar la tupla o el test fallará, simplemente muestra lo que se pide por pantalla."
   ]
  },
  {
   "cell_type": "code",
   "execution_count": 3,
   "metadata": {},
   "outputs": [
    {
     "name": "stdout",
     "output_type": "stream",
     "text": [
      "123\n",
      "6\n",
      "5\n",
      "(1, 2, 3)\n",
      "5\n",
      "1\n"
     ]
    }
   ],
   "source": [
    "tupla = (1,2,3,4,5,123)\n",
    "print(tupla[-1])\n",
    "print(len(tupla))\n",
    "print(tupla.index(123))\n",
    "print(tupla[:3])\n",
    "print(tupla[4])\n",
    "print(tupla.count(4))"
   ]
  }
 ],
 "metadata": {
  "kernelspec": {
   "display_name": "Python 3",
   "language": "python",
   "name": "python3"
  },
  "language_info": {
   "codemirror_mode": {
    "name": "ipython",
    "version": 3
   },
   "file_extension": ".py",
   "mimetype": "text/x-python",
   "name": "python",
   "nbconvert_exporter": "python",
   "pygments_lexer": "ipython3",
   "version": "3.12.1"
  }
 },
 "nbformat": 4,
 "nbformat_minor": 0
}
