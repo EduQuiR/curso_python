{
 "cells": [
  {
   "cell_type": "markdown",
   "metadata": {},
   "source": [
    "### Pilas o Stacks \n",
    "- Es una coleccion de elementos ordenados, la pecularidad es que permiten dos accciones:\n",
    "    - Añadir un elemento\n",
    "    - Eliminar un elemento\n",
    "- Lo interesante de una pila es que el ultimo elemento en ingresar es el primero en salir\n",
    "    - En ingles se lo conoce como LIFO - Last in First Out"
   ]
  },
  {
   "cell_type": "code",
   "execution_count": 3,
   "metadata": {},
   "outputs": [
    {
     "name": "stdout",
     "output_type": "stream",
     "text": [
      "[2, 3, 4, 5]\n",
      "[2, 3, 4]\n"
     ]
    }
   ],
   "source": [
    "pila = [2,3,4]\n",
    "pila.append(5)\n",
    "print(pila)\n",
    "pila.pop()\n",
    "print(pila)"
   ]
  },
  {
   "cell_type": "markdown",
   "metadata": {},
   "source": [
    "Las colas es una coleccion donde el primer elemento en entrar es el primer elemento en salir.\n",
    "- En ingles es FIFO - First In First Out"
   ]
  },
  {
   "cell_type": "code",
   "execution_count": 9,
   "metadata": {},
   "outputs": [
    {
     "name": "stdout",
     "output_type": "stream",
     "text": [
      "deque(['eduardo', 'jose', 'pedro'])\n",
      "deque(['eduardo', 'jose', 'pedro', 'maria', 'rosa'])\n",
      "deque(['jose', 'pedro', 'maria', 'rosa'])\n"
     ]
    }
   ],
   "source": [
    "from collections import deque\n",
    "\n",
    "cola = deque(['eduardo', 'jose', 'pedro'])\n",
    "print(cola)\n",
    "\n",
    "cola.append('maria')\n",
    "cola.append('rosa')\n",
    "print(cola)\n",
    "\n",
    "#Eliminar el primer elemento, solo funciona en una cola o queue. No funciona en una lista\n",
    "cola.popleft()\n",
    "print(cola)"
   ]
  },
  {
   "cell_type": "code",
   "execution_count": 1,
   "metadata": {},
   "outputs": [
    {
     "name": "stdout",
     "output_type": "stream",
     "text": [
      "(3, 4, 5)\n",
      "[1, 2, 3]\n",
      "(1, 2, 3, 4, 5)\n"
     ]
    }
   ],
   "source": [
    "t = (1,2,3,4,5)\n",
    " \n",
    "print( t[2:] )\n",
    "\n",
    "c = {1,2,2,3,3,3}\n",
    " \n",
    "print( list(c) )\n",
    "print(t)\n",
    "\n",
    "\n",
    "\n"
   ]
  }
 ],
 "metadata": {
  "kernelspec": {
   "display_name": "Python 3",
   "language": "python",
   "name": "python3"
  },
  "language_info": {
   "codemirror_mode": {
    "name": "ipython",
    "version": 3
   },
   "file_extension": ".py",
   "mimetype": "text/x-python",
   "name": "python",
   "nbconvert_exporter": "python",
   "pygments_lexer": "ipython3",
   "version": "3.12.2"
  }
 },
 "nbformat": 4,
 "nbformat_minor": 0
}
