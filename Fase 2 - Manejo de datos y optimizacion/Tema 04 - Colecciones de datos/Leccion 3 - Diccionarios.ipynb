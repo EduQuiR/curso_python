{
 "cells": [
  {
   "cell_type": "code",
   "execution_count": 3,
   "metadata": {},
   "outputs": [
    {
     "name": "stdout",
     "output_type": "stream",
     "text": [
      "39 Eduardo\n",
      "27 Pedro\n",
      "21 Maria\n"
     ]
    }
   ],
   "source": [
    "edades = {'Eduardo': 39, 'Pedro': 27, 'Maria': 21}\n",
    "\n",
    "for clave, valor in edades.items():\n",
    "    print(valor, clave)"
   ]
  },
  {
   "cell_type": "markdown",
   "metadata": {},
   "source": [
    "### Diccionarios\n",
    "El siguiente ejercicio te servirá para practicar la manipulación de diccionarios.\n",
    "\n",
    "Debes realizar las siguientes instrucciones de forma ordenada sobre la variable animales para que el ejercicio valide correctamente:\n",
    "\n",
    "- Añade al diccionario las claves perro, gato y rana con sus respectivos valores dog, cat y frog.\n",
    "\n",
    "- Modifica las claves caballo y vaca con los valores horse y cow respectivamente.\n",
    "\n",
    "- Por último elimina del diccionario las claves rana y vaca."
   ]
  },
  {
   "cell_type": "code",
   "execution_count": 10,
   "metadata": {},
   "outputs": [
    {
     "name": "stdout",
     "output_type": "stream",
     "text": [
      "{'caballo': 'horse', 'vaca': 'cow', 'perro': 'dog', 'gato': 'cat', 'sapo': 'frog'}\n",
      "{'caballo': 'horse', 'vaca': 'cow', 'perro': 'dog', 'gato': 'cat'}\n",
      "{'caballo': 'horse', 'perro': 'dog', 'gato': 'cat'}\n"
     ]
    }
   ],
   "source": [
    "# Variables del ejercicio (no modifiques esta línea)\n",
    "animales = {\"caballo\":\"\", \"vaca\":\"\"}\n",
    "\n",
    "# completa el ejercicio\n",
    "animales_agregar = {'perro':'dog', 'gato':'cat', 'sapo':'frog'}\n",
    "\n",
    "for clave, valor in animales_agregar.items():\n",
    "    animales[clave] = valor\n",
    "\n",
    "animales['caballo'] = 'horse'\n",
    "animales['vaca'] = 'cow'\n",
    "\n",
    "print(animales)\n",
    "\n",
    "animales.popitem()\n",
    "print(animales)\n",
    "\n",
    "animales.pop('vaca')\n",
    "print(animales)\n",
    "\n",
    "\n"
   ]
  }
 ],
 "metadata": {
  "kernelspec": {
   "display_name": "Python 3",
   "language": "python",
   "name": "python3"
  },
  "language_info": {
   "codemirror_mode": {
    "name": "ipython",
    "version": 3
   },
   "file_extension": ".py",
   "mimetype": "text/x-python",
   "name": "python",
   "nbconvert_exporter": "python",
   "pygments_lexer": "ipython3",
   "version": "3.12.1"
  }
 },
 "nbformat": 4,
 "nbformat_minor": 0
}
