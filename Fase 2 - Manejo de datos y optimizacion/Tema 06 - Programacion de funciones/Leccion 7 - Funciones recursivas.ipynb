{
 "cells": [
  {
   "cell_type": "markdown",
   "metadata": {},
   "source": [
    "\n",
    "Una función recursiva es una función que se llama a sí misma durante su ejecución. Es como una receta que se explica a sí misma, repitiendo los mismos pasos hasta que se cumple una condición específica.\n",
    "\n",
    "¿Para qué funciona?\n",
    "\n",
    "Las funciones recursivas son útiles para resolver problemas que se pueden dividir en subproblemas más pequeños del mismo tipo. La función se encarga de resolver uno de los subproblemas y luego se llama a sí misma para resolver los demás."
   ]
  },
  {
   "cell_type": "code",
   "execution_count": 5,
   "metadata": {},
   "outputs": [
    {
     "name": "stdout",
     "output_type": "stream",
     "text": [
      "4\n",
      "3\n",
      "2\n",
      "1\n",
      "booommm\n",
      "fin de la funcion 0\n",
      "fin de la funcion 1\n",
      "fin de la funcion 2\n",
      "fin de la funcion 3\n",
      "fin de la funcion 4\n"
     ]
    }
   ],
   "source": [
    "def cuenta_atras(num):\n",
    "    num -= 1\n",
    "    if num > 0:\n",
    "        print(num)\n",
    "        cuenta_atras(num)\n",
    "    else:\n",
    "        print('booommm')\n",
    "    print('fin de la funcion', num)\n",
    "\n",
    "cuenta_atras(5)"
   ]
  },
  {
   "cell_type": "code",
   "execution_count": 7,
   "metadata": {},
   "outputs": [
    {
     "name": "stdout",
     "output_type": "stream",
     "text": [
      " valor inicial -> 5\n",
      " valor inicial -> 4\n",
      " valor inicial -> 3\n",
      " valor inicial -> 2\n",
      " valor inicial -> 1\n",
      " valor final -> 1\n",
      " valor final -> 2\n",
      " valor final -> 6\n",
      " valor final -> 24\n",
      " valor final -> 120\n"
     ]
    },
    {
     "data": {
      "text/plain": [
       "120"
      ]
     },
     "execution_count": 7,
     "metadata": {},
     "output_type": "execute_result"
    }
   ],
   "source": [
    "def factorial(num):\n",
    "    print(' valor inicial ->',num)\n",
    "    if num > 1:\n",
    "        num = num * factorial(num - 1)\n",
    "    print(' valor final ->',num)\n",
    "    return num\n",
    "\n",
    "factorial(5)"
   ]
  },
  {
   "cell_type": "markdown",
   "metadata": {},
   "source": [
    "## Funciones recursivas\n",
    "Realiza una función recursiva llamada sumatorio(numero), que sin utilizar ningún bucle, sume todos los números desde numero hasta 1 y devuelva la suma total, dando por hecho que numero es siempre un entero.\n",
    "\n",
    "Ejemplos:\n",
    "\n",
    "sumatorio(3) => 3+2+1 = 6 (Devolverá 6)\n",
    "sumatorio(5) => 5+4+3+2+1 = 15 (Devolverá 15)\n",
    "\n",
    "Notas:\n",
    "\n",
    "- Única y exclusivamente tienes que programar la función, no debe haber ningún otro código en el ejercicio.\n",
    "\n",
    "- No puedes utilizar bucles, debes generar las iteraciones mediante la recursividad de la propia función."
   ]
  },
  {
   "cell_type": "code",
   "execution_count": 9,
   "metadata": {},
   "outputs": [
    {
     "data": {
      "text/plain": [
       "15"
      ]
     },
     "execution_count": 9,
     "metadata": {},
     "output_type": "execute_result"
    }
   ],
   "source": [
    "# Completa el ejercicio\n",
    "def sumatorio(numero):\n",
    "    if numero > 0:\n",
    "        numero = numero + sumatorio(numero - 1)\n",
    "    return numero\n",
    "\n",
    "sumatorio(5)"
   ]
  }
 ],
 "metadata": {
  "kernelspec": {
   "display_name": "Python 3",
   "language": "python",
   "name": "python3"
  },
  "language_info": {
   "codemirror_mode": {
    "name": "ipython",
    "version": 3
   },
   "file_extension": ".py",
   "mimetype": "text/x-python",
   "name": "python",
   "nbconvert_exporter": "python",
   "pygments_lexer": "ipython3",
   "version": "3.12.2"
  }
 },
 "nbformat": 4,
 "nbformat_minor": 0
}
