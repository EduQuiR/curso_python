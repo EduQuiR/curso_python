{
 "cells": [
  {
   "cell_type": "markdown",
   "metadata": {},
   "source": [
    "##Funciones\n",
    "- Son fragmentos de codigos que se pueden ejecutar multiples veces.\n",
    "- Pueden recibir y devolver informacion para comunicarse con el proceso principal."
   ]
  },
  {
   "cell_type": "markdown",
   "metadata": {},
   "source": [
    "## Funciones\n",
    "### Realiza una función llamada par_o_impar(numero) que imprima por pantalla PAR o IMPAR (todo en mayúsculas) dependiendo de si numero es par o impar.\n",
    "\n",
    "Notas:\n",
    "\n",
    "Se debe imprimir única y exclusivamente PAR o IMPAR o la comprobación de la solución fallará.\n",
    "\n",
    "Única y exclusivamente tienes que programar la función, no debe haber ningún otro código en el ejercicio."
   ]
  },
  {
   "cell_type": "code",
   "execution_count": 17,
   "metadata": {},
   "outputs": [
    {
     "name": "stdout",
     "output_type": "stream",
     "text": [
      "PAR\n",
      "0\n"
     ]
    }
   ],
   "source": [
    "def par_o_impar(numero):\n",
    "    if numero % 2 == 0:\n",
    "        print('PAR')\n",
    "    else:\n",
    "        print('IMPAR')\n",
    "\n",
    "par_o_impar(0)\n",
    "\n",
    "print( 0 % 2)"
   ]
  },
  {
   "cell_type": "markdown",
   "metadata": {},
   "source": [
    "## Funciones completas\n",
    "### Realiza una función llamada recortar(numero, minimo, maximo) que reciba tres argumentos:\n",
    "\n",
    "- El primero es el número a recortar\n",
    "- El segundo es el límite inferior\n",
    "- El tercero el límite superior.\n",
    "\n",
    "### La función tendrá que cumplir lo siguiente:\n",
    "\n",
    "- Devolver el límite inferior si el número es menor que éste\n",
    "- Devolver el límite superior si el número es mayor que éste.\n",
    "- Devolver el número sin cambios si no se supera ningún límite.\n",
    "\n",
    "### Notas:\n",
    "\n",
    "- Única y exclusivamente tienes que programar la función, no debe haber ningún otro código en el ejercicio.\n",
    "- No utilices la sentencia match-case, ya que el ejercicio está validando con Python 3.8."
   ]
  },
  {
   "cell_type": "code",
   "execution_count": 18,
   "metadata": {},
   "outputs": [
    {
     "name": "stdout",
     "output_type": "stream",
     "text": [
      "10\n"
     ]
    }
   ],
   "source": [
    "def recortar(numero, minimo, maximo):\n",
    "    if numero < minimo:\n",
    "        return minimo\n",
    "    elif numero > maximo:\n",
    "        return maximo\n",
    "    else:\n",
    "        return numero\n",
    "\n",
    "numero_recortado = recortar(15, 5, 10)\n",
    "print(numero_recortado)\n"
   ]
  }
 ],
 "metadata": {
  "kernelspec": {
   "display_name": "Python 3",
   "language": "python",
   "name": "python3"
  },
  "language_info": {
   "codemirror_mode": {
    "name": "ipython",
    "version": 3
   },
   "file_extension": ".py",
   "mimetype": "text/x-python",
   "name": "python",
   "nbconvert_exporter": "python",
   "pygments_lexer": "ipython3",
   "version": "3.12.2"
  }
 },
 "nbformat": 4,
 "nbformat_minor": 0
}
