{
 "cells": [
  {
   "cell_type": "markdown",
   "metadata": {},
   "source": [
    "En python no le podemos indicar al programa que tipo de datos o informacion le vamos a pasar, es decir si es que va a ser por el valor o por la referencia.\n",
    "En python no se puede indicar esto, pero en otros lenguajes si se puede y se lo hace con los \"punteros\""
   ]
  },
  {
   "cell_type": "markdown",
   "metadata": {},
   "source": [
    "Una lista se maneja por referencia y un numero u otro tipo de dato se maneja por el valor.\n",
    "Entonces cuando queremos modificar el valor de una variable tenemos que tener en cuenta esto."
   ]
  },
  {
   "cell_type": "code",
   "execution_count": 8,
   "metadata": {},
   "outputs": [
    {
     "name": "stdout",
     "output_type": "stream",
     "text": [
      "2\n",
      "2\n",
      "100\n",
      "2\n",
      "[1, 32, 4, 5]\n",
      "[1, 32, 4, 5]\n",
      "[1, 10000, 4, 5]\n",
      "[1, 10000, 4, 5]\n"
     ]
    }
   ],
   "source": [
    "# Asignamos un valor a la variable, esta informacion se guarda por su valor\n",
    "a = 2\n",
    "print(a)\n",
    "\n",
    "# Guardamos en una variable nueva la variable creada anteriormente\n",
    "b = a\n",
    "print(b)\n",
    "\n",
    "# Modificamos el valor de la variable \"a\" y verificamos el resultado. Se puede verificar que el valor de la variable \"a\" se modifica pero no asi el valor de la variable \"b\"\n",
    "a = 100\n",
    "print(a)\n",
    "print(b)\n",
    "\n",
    "#En caso lo que haremos ahora es crear una lista que se guardara por su referencia\n",
    "lista = [1,32,4,5]\n",
    "print(lista)\n",
    "\n",
    "#Guardamos la lista creada \"lista\" en una nueva variable \n",
    "lista2 = lista\n",
    "print(lista2)\n",
    "\n",
    "# Ahora modificamos el valor de la primera lista y en este caso se puede observar que al modificar un valor de la lista ya afecta a la segunda lista, esto debido a que en la lista se guarda el valor por la \"Referencia\"\n",
    "lista[1] = 10000\n",
    "print(lista)\n",
    "print(lista2)\n",
    "\n",
    "\n"
   ]
  },
  {
   "cell_type": "code",
   "execution_count": 7,
   "metadata": {},
   "outputs": [
    {
     "data": {
      "text/plain": [
       "2"
      ]
     },
     "execution_count": 7,
     "metadata": {},
     "output_type": "execute_result"
    }
   ],
   "source": [
    "def doblar_valor(numero): #Se pasa la informacion por valor, por eso no se multiplica\n",
    "    numero*=2\n",
    "\n",
    "n = 2\n",
    "\n",
    "doblar_valor(n)\n",
    "n"
   ]
  },
  {
   "cell_type": "code",
   "execution_count": 6,
   "metadata": {},
   "outputs": [
    {
     "data": {
      "text/plain": [
       "[20, 100, 200]"
      ]
     },
     "execution_count": 6,
     "metadata": {},
     "output_type": "execute_result"
    }
   ],
   "source": [
    "def doblar_valor(numeros):# Se pasa la informacion por referencia, en este caso la lista por lo cual si se multiplica\n",
    "    for i, n in enumerate(numeros):\n",
    "        numeros[i]*= 2\n",
    "\n",
    "ns = [10,50,100]\n",
    "\n",
    "doblar_valor(ns)\n",
    "ns"
   ]
  },
  {
   "cell_type": "code",
   "execution_count": 8,
   "metadata": {},
   "outputs": [
    {
     "data": {
      "text/plain": [
       "6"
      ]
     },
     "execution_count": 8,
     "metadata": {},
     "output_type": "execute_result"
    }
   ],
   "source": [
    "def doblar_valor(numero):\n",
    "    return numero*2\n",
    "\n",
    "n = 3\n",
    "\n",
    "n = doblar_valor(n)\n",
    "\n",
    "n"
   ]
  }
 ],
 "metadata": {
  "kernelspec": {
   "display_name": "Python 3",
   "language": "python",
   "name": "python3"
  },
  "language_info": {
   "codemirror_mode": {
    "name": "ipython",
    "version": 3
   },
   "file_extension": ".py",
   "mimetype": "text/x-python",
   "name": "python",
   "nbconvert_exporter": "python",
   "pygments_lexer": "ipython3",
   "version": "3.12.2"
  }
 },
 "nbformat": 4,
 "nbformat_minor": 0
}
