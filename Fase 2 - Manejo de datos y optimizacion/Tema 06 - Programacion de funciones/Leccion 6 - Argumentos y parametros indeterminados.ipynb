{
 "cells": [
  {
   "cell_type": "code",
   "execution_count": 1,
   "metadata": {},
   "outputs": [
    {
     "name": "stdout",
     "output_type": "stream",
     "text": [
      "(2, 'hola', [1, 2, 3, 4, 5])\n",
      "2\n",
      "hola\n",
      "[1, 2, 3, 4, 5]\n",
      "{'n': 2, 'c': 'hola', 'l': [1, 2, 3]}\n",
      "n =  2\n",
      "c =  hos\n",
      "l =  [1, 2, 3]\n"
     ]
    }
   ],
   "source": [
    "# Manejar los parametros por posicion \n",
    "def indeterminado_posicion(*args):\n",
    "    print(args)\n",
    "\n",
    "indeterminado_posicion(2,'hola', [1,2,3,4,5]) #Se obtine una tupla como resultado\n",
    "\n",
    "def indeterminado_posicion2(*args):\n",
    "    for arg in args:\n",
    "        print(arg)\n",
    "\n",
    "indeterminado_posicion2(2,'hola', [1,2,3,4,5]) #Se obtine una lista como resultado\n",
    "\n",
    "#\n",
    "def indeterminados_nombre(**kwargs):\n",
    "    print(kwargs)\n",
    "\n",
    "indeterminados_nombre(n=2,c=\"hola\",l=[1,2,3])\n",
    "\n",
    "def indeterminados_nombre(**kwargs):\n",
    "    for kwarg in kwargs:\n",
    "        print(kwarg, '= ',kwargs[kwarg] )\n",
    "\n",
    "indeterminados_nombre(n = 2, c=\"hos\", l= [1,2,3])"
   ]
  }
 ],
 "metadata": {
  "kernelspec": {
   "display_name": "Python 3",
   "language": "python",
   "name": "python3"
  },
  "language_info": {
   "codemirror_mode": {
    "name": "ipython",
    "version": 3
   },
   "file_extension": ".py",
   "mimetype": "text/x-python",
   "name": "python",
   "nbconvert_exporter": "python",
   "pygments_lexer": "ipython3",
   "version": "3.12.2"
  }
 },
 "nbformat": 4,
 "nbformat_minor": 0
}
