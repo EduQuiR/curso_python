{
 "cells": [
  {
   "cell_type": "code",
   "execution_count": 11,
   "metadata": {},
   "outputs": [
    {
     "name": "stdout",
     "output_type": "stream",
     "text": [
      "[1, 2, 3, 4, 6]\n",
      "[1000, 2, 3, 4, 6]\n"
     ]
    }
   ],
   "source": [
    "nombre = 'a'\n",
    "numero = 1\n",
    "lista1 = [1,2,3,4,6]\n",
    "lista3 = ['a','b']\n",
    "\n",
    "lista2 = lista1\n",
    "print(lista2)\n",
    "\n",
    "lista1[0] = 1000\n",
    "\n",
    "print(lista2)"
   ]
  },
  {
   "cell_type": "code",
   "execution_count": 12,
   "metadata": {},
   "outputs": [
    {
     "name": "stdout",
     "output_type": "stream",
     "text": [
      "0x19d3ac06700\n",
      "0x19d3ac06700\n",
      "0x19d3ac07180\n",
      "0x7fffbffccce0\n",
      "0x7fffbffc49b8\n"
     ]
    }
   ],
   "source": [
    "def memoria(obj):\n",
    "    print(f'{hex(id(obj))}')\n",
    "\n",
    "memoria(lista2)\n",
    "memoria(lista1)\n",
    "memoria(lista3)\n",
    "memoria(nombre)\n",
    "memoria(numero)"
   ]
  },
  {
   "cell_type": "code",
   "execution_count": null,
   "metadata": {},
   "outputs": [],
   "source": []
  }
 ],
 "metadata": {
  "kernelspec": {
   "display_name": "Python 3",
   "language": "python",
   "name": "python3"
  },
  "language_info": {
   "codemirror_mode": {
    "name": "ipython",
    "version": 3
   },
   "file_extension": ".py",
   "mimetype": "text/x-python",
   "name": "python",
   "nbconvert_exporter": "python",
   "pygments_lexer": "ipython3",
   "version": "3.12.2"
  }
 },
 "nbformat": 4,
 "nbformat_minor": 0
}
