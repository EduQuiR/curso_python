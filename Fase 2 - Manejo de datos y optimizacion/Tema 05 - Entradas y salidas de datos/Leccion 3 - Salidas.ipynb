{
 "cells": [
  {
   "cell_type": "code",
   "execution_count": 10,
   "metadata": {},
   "outputs": [
    {
     "name": "stdout",
     "output_type": "stream",
     "text": [
      "                       palabra\n",
      "palabra                       \n",
      "           palabra            \n",
      "pa\n",
      "                            pa\n"
     ]
    }
   ],
   "source": [
    "saludo = 'palabra'\n",
    "\n",
    "print(f'{saludo:>30}') # Alineamiento a la derecha con 30 caracteres\n",
    "print(f'{saludo:30}') # Alineamieto a la izquierda con 30 caracteres\n",
    "print(f'{saludo:^30}') # Alineamieto a la izquierda con 30 caracteres\n",
    "print(f'{saludo:.2}') #Truncamiento, es decir decimos la cantidad de letras que se van a mostrar\n",
    "print(f'{saludo:>30.2}') # Alineamiento a la derecha en 30 caracteres con truncamiento de 3\n"
   ]
  },
  {
   "cell_type": "code",
   "execution_count": 2,
   "metadata": {},
   "outputs": [
    {
     "name": "stdout",
     "output_type": "stream",
     "text": [
      "  10\n",
      " 100\n",
      "1000\n"
     ]
    }
   ],
   "source": [
    "#Formatear numeros enteros, rellenados con espacios\n",
    "print('{:4d}'.format(10))\n",
    "print('{:4d}'.format(100))\n",
    "print('{:4d}'.format(1000))\n"
   ]
  },
  {
   "cell_type": "code",
   "execution_count": 10,
   "metadata": {},
   "outputs": [
    {
     "name": "stdout",
     "output_type": "stream",
     "text": [
      "0010\n",
      "0100\n",
      "1000\n",
      "3.1415926\n",
      "  3.142\n",
      "153.210\n",
      "3.1415926\n",
      "003.142\n",
      "153.210\n"
     ]
    }
   ],
   "source": [
    "#Formatear numeros enteros, rellenados con ceros\n",
    "print('{:04d}'.format(10))\n",
    "print('{:04d}'.format(100))\n",
    "print('{:04d}'.format(1000))\n",
    "\n",
    "#Formateo de numeros flotantes con espacios\n",
    "print('{}'.format(3.1415926))\n",
    "print('{:7.3f}'.format(3.1415926))\n",
    "print('{:7.3f}'.format(153.21))\n",
    "\n",
    "#Formateo de numeros flotantes con ceros\n",
    "print('{}'.format(3.1415926))\n",
    "print('{:07.3f}'.format(3.1415926))\n",
    "print('{:07.3f}'.format(153.21))\n"
   ]
  },
  {
   "cell_type": "code",
   "execution_count": 12,
   "metadata": {},
   "outputs": [
    {
     "name": "stdout",
     "output_type": "stream",
     "text": [
      "3 - 2 = 1\n",
      "001234\n"
     ]
    }
   ],
   "source": [
    "c = \"{n} - {m} = {r}\".format(m=2, r=3-2, n=3)\n",
    " \n",
    "print(c)\n",
    "\n",
    "c = \"{:06d}\".format(1234)\n",
    " \n",
    "print(c)"
   ]
  }
 ],
 "metadata": {
  "kernelspec": {
   "display_name": "Python 3",
   "language": "python",
   "name": "python3"
  },
  "language_info": {
   "codemirror_mode": {
    "name": "ipython",
    "version": 3
   },
   "file_extension": ".py",
   "mimetype": "text/x-python",
   "name": "python",
   "nbconvert_exporter": "python",
   "pygments_lexer": "ipython3",
   "version": "3.12.2"
  }
 },
 "nbformat": 4,
 "nbformat_minor": 0
}
