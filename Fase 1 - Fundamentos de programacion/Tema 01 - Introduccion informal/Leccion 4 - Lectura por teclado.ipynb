{
 "cells": [
  {
   "cell_type": "markdown",
   "metadata": {
    "collapsed": true
   },
   "source": [
    "## Input\n",
    "- El valor del input siempre es string por lo que si queremos trabajar con numeros debemos convertir a ese tipo de dato"
   ]
  },
  {
   "cell_type": "code",
   "execution_count": 4,
   "metadata": {},
   "outputs": [
    {
     "name": "stdout",
     "output_type": "stream",
     "text": [
      "hola\n"
     ]
    }
   ],
   "source": [
    "saludo = input(\"Ingrese su saludo\")\n",
    "print(saludo)\n"
   ]
  },
  {
   "cell_type": "code",
   "execution_count": 6,
   "metadata": {},
   "outputs": [
    {
     "name": "stdout",
     "output_type": "stream",
     "text": [
      "4\n"
     ]
    }
   ],
   "source": [
    "numero = int(input(\"Ingrese un valor\"))\n",
    "nuemro2 = int(input(\"Ingrese un valor\"))\n",
    "calculadora = numero + nuemro2\n",
    "print(calculadora)"
   ]
  },
  {
   "cell_type": "markdown",
   "metadata": {},
   "source": []
  },
  {
   "cell_type": "markdown",
   "metadata": {},
   "source": [
    "## Inputs\n",
    "### Realiza un programa con los siguientes requisitos:\n",
    "\n",
    "- Debes leer por teclado dos cadenas de caracteres, una llamada nombre y otra llamada apellido.\n",
    "\n",
    "- Debes leer por teclado un número entero llamado edad (recuerda que la variable debe ser de tipo entero).\n",
    "\n",
    "- Debes leer por teclado un número flotante llamado numero_magico.\n",
    "\n",
    "- Finalmente debes crear una variable cadena_final con el siguiente formato:\n",
    "\n",
    "NOMBRE APELLIDO: Tu número de la suerte es el EDAD*NUMERO_MAGICO\n",
    "Por ejemplo, si se introducen los valores \"Juan\", \"Pérez\", 20 y 4.5 , cadena_final contendrá lo siguiente:\n",
    "Juan Pérez: Tu número de la suerte es el 90.0\n",
    "\n",
    "Nota: En este ejercicio no tienes que intoducir ningún valor en los inputs, sólo programar correctamente las variables y generar la cadena_final tal como se pide. El sistema se encargará de introducir él mismo los valores en los inputs y comprobar que el resultado sea el esperado. Si lo necesitas puedes hacer conversiones entre formatos con las funciones int, float y str, esta última convierte números a cadenas, por ejemplo, str(10) devuelve '10'"
   ]
  },
  {
   "cell_type": "code",
   "execution_count": 9,
   "metadata": {},
   "outputs": [
    {
     "name": "stdout",
     "output_type": "stream",
     "text": [
      "Eduardo Ramos: Tu numero de la suerte es el 663.0\n"
     ]
    }
   ],
   "source": [
    "nombre = input('Ingrese su nombre: ')\n",
    "apellido = input('Ingrese su apellido: ')\n",
    "edad = int(input('Ingrese su edad: '))\n",
    "numero_magico = float(input('Ingrese un numero: '))\n",
    "cadena_final = f'{nombre} {apellido}: Tu numero de la suerte es el {edad*numero_magico}'\n",
    "print(cadena_final)"
   ]
  },
  {
   "cell_type": "code",
   "execution_count": 17,
   "metadata": {},
   "outputs": [
    {
     "name": "stdout",
     "output_type": "stream",
     "text": [
      "EduRAmos: Tu numero de la suerte es el 46.0\n"
     ]
    }
   ],
   "source": [
    "# Completa el ejercicio\n",
    "nombre = input('Ingrese su nombre: ')\n",
    "apellido = input('Ingrese su apellido: ')\n",
    "edad = int(input('Ingrese su edad: '))\n",
    "numero_magico = float(input('Ingrese un numero: '))\n",
    "cadena_final = nombre +' ' +  apellido + ': Tu numero de la suerte es el ' + str(edad * numero_magico)\n",
    "print(cadena_final)"
   ]
  },
  {
   "cell_type": "code",
   "execution_count": 22,
   "metadata": {},
   "outputs": [
    {
     "name": "stdout",
     "output_type": "stream",
     "text": [
      "Este texto\n",
      "contiene\tcaracteres\tespeciales\n"
     ]
    },
    {
     "data": {
      "text/plain": [
       "5"
      ]
     },
     "execution_count": 22,
     "metadata": {},
     "output_type": "execute_result"
    }
   ],
   "source": [
    "10 % 3\n",
    "texto = \"Este texto\\ncontiene\\tcaracteres\\tespeciales\"\n",
    "print(texto)\n",
    "\n",
    "cadena = \"Me encanta Python\"\n",
    "cadena[:10]\n",
    "\n",
    "lista = [1,2,3,\"Hola mundo\", [4,5,6] ]\n",
    "lista[-1][1]"
   ]
  }
 ],
 "metadata": {
  "anaconda-cloud": {},
  "kernelspec": {
   "display_name": "Python [default]",
   "language": "python",
   "name": "python3"
  },
  "language_info": {
   "codemirror_mode": {
    "name": "ipython",
    "version": 3
   },
   "file_extension": ".py",
   "mimetype": "text/x-python",
   "name": "python",
   "nbconvert_exporter": "python",
   "pygments_lexer": "ipython3",
   "version": "3.11.7"
  }
 },
 "nbformat": 4,
 "nbformat_minor": 0
}
