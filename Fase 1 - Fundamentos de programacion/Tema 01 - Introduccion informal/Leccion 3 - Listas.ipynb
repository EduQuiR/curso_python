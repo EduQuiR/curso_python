{
 "cells": [
  {
   "cell_type": "code",
   "execution_count": 3,
   "metadata": {
    "collapsed": true
   },
   "outputs": [
    {
     "name": "stdout",
     "output_type": "stream",
     "text": [
      "[1, 2, 3, 4, 5, 6]\n"
     ]
    }
   ],
   "source": [
    "#Concatenar listas\n",
    "\n",
    "lista = [1,2,3]\n",
    "lista = lista + [4,5,6]\n",
    "print(lista)"
   ]
  },
  {
   "cell_type": "code",
   "execution_count": 4,
   "metadata": {},
   "outputs": [
    {
     "name": "stdout",
     "output_type": "stream",
     "text": [
      "[1, 2, 3, 4, 5, 6]\n",
      "[4, 5, 6]\n"
     ]
    }
   ],
   "source": [
    "#Para eliminar ciertos elementos en una lista se puede utilizar el slicing\n",
    "\n",
    "print(lista)\n",
    "\n",
    "#Utilizo el slicing para reemplezar los primeros 3 elementos de la lista con una lista vacia, lo cual hace que se eliminen dichos elementos\n",
    "lista[:3] = []\n",
    "print(lista)"
   ]
  },
  {
   "cell_type": "code",
   "execution_count": 6,
   "metadata": {},
   "outputs": [
    {
     "name": "stdout",
     "output_type": "stream",
     "text": [
      "[1, 2, 3]\n",
      "['a', 'b', 'c']\n",
      "[4, 5, 6]\n",
      "[[1, 2, 3], ['a', 'b', 'c'], [4, 5, 6]]\n",
      "1\n"
     ]
    }
   ],
   "source": [
    "#Listas anidadas o listas de listas\n",
    "\n",
    "#Creamos listas separadas\n",
    "a = [ 1,2,3]\n",
    "print(a)\n",
    "\n",
    "b = ['a','b','c']\n",
    "print(b)\n",
    "\n",
    "c = [4,5,6]\n",
    "print(c)\n",
    "\n",
    "#Anidamos las listas o juntamos en una sola (lista de listas)\n",
    "d = [a,b,c]\n",
    "print(d)\n",
    "\n",
    "#Accedemos al primer elemento de la primera lista (a) que se encuentra dentro la lista anidada (d) por los indices correspondinetes\n",
    "\n",
    "lista_nueva = d[0][0] #En este caso accedo primero a la lista (a) por el indece \"0\" y luego al valor (1) por su indice \"0\"\n",
    "print(lista_nueva)"
   ]
  },
  {
   "cell_type": "markdown",
   "metadata": {},
   "source": [
    "## Ejercicio\n",
    "\n",
    "### Dadas dos listas \"lista1\" y \"lista2\" debes realizar diferentes tareas por el orden indicado:\n",
    "\n",
    "- Añade a la lista1 el número 1234 y luego el texto Hola.\n",
    "\n",
    "- Añade a la lista2 el texto Adiós y luego el número 1234.\n",
    "\n",
    "- Genera una lista3 con todos los elementos de la lista1 excepto el último.\n",
    "\n",
    "- Genera una lista4 con todos los elementos de la lista2 excepto el primero y el último.\n",
    "\n",
    "- Genera una lista5 con los elementos de la lista4 más la lista3."
   ]
  },
  {
   "cell_type": "code",
   "execution_count": 24,
   "metadata": {},
   "outputs": [
    {
     "name": "stdout",
     "output_type": "stream",
     "text": [
      "[1, 12, 123, 1234, 'Hola']\n",
      "['Bye', 'Ciao', 'Agur', 'Adieu', 'Adiós', 1234]\n",
      "[1, 12, 123, 1234]\n",
      "['Ciao', 'Agur', 'Adieu', 'Adiós']\n",
      "['Ciao', 'Agur', 'Adieu', 'Adiós', 1, 12, 123, 1234]\n"
     ]
    }
   ],
   "source": [
    "# no modifiques el nombre de ninguna variable, puedes crear nuevas\n",
    "lista1 = [1, 12, 123]\n",
    "lista2 = [\"Bye\", \"Ciao\", \"Agur\", \"Adieu\"]\n",
    "\n",
    "# completa el ejercicio\n",
    "#Ejercicio 1\n",
    "lista1[0:] = lista1 + [1234,\"Hola\"]\n",
    "print(lista1)\n",
    "\n",
    "#Ejercicio 2\n",
    "lista2[0:] = lista2 + ['Adiós', 1234]\n",
    "print(lista2)\n",
    "\n",
    "#Ejercicio 3\n",
    "lista3 = lista1[0:-1]\n",
    "print(lista3)\n",
    "\n",
    "# Ejercicio 4\n",
    "lista4 = lista2[1:-1]\n",
    "print(lista4)\n",
    "\n",
    "# Ejercicio 5\n",
    "lista5 = lista4 + lista3\n",
    "print(lista5)\n"
   ]
  },
  {
   "cell_type": "code",
   "execution_count": 25,
   "metadata": {},
   "outputs": [
    {
     "name": "stdout",
     "output_type": "stream",
     "text": [
      "[1, 12, 123, 1234, 'Hola']\n",
      "['Bye', 'Ciao', 'Agur', 'Adieu', 'Adiós', 1234]\n",
      "[1, 12, 123, 1234]\n",
      "['Ciao', 'Agur', 'Adieu', 'Adiós']\n",
      "['Ciao', 'Agur', 'Adieu', 'Adiós', 1, 12, 123, 1234]\n"
     ]
    }
   ],
   "source": [
    "lista1 = [1, 12, 123]\n",
    "lista2 = [\"Bye\", \"Ciao\", \"Agur\", \"Adieu\"]\n",
    " \n",
    "# Añadimos los elementos a la primera lista\n",
    "lista1.append(1234)\n",
    "lista1.append(\"Hola\")\n",
    "print(lista1)\n",
    " \n",
    "# Añadimos los elementos a la segunda lista\n",
    "lista2.append(\"Adiós\")\n",
    "lista2.append(1234)\n",
    "print(lista2)\n",
    " \n",
    "# Generamos la tercera lista con los elementos de la primera excepto el último\n",
    "lista3 = lista1[:-1]\n",
    "print(lista3)\n",
    "# Generamos la cuarta lista con los elementos de la segunda excepto el primero y el último\n",
    "lista4 = lista2[1:-1]\n",
    "print(lista4)\n",
    " \n",
    "# Generamos la quinta lista sumando la cuarta y la tercera\n",
    "lista5 = lista4 + lista3\n",
    "print(lista5)"
   ]
  }
 ],
 "metadata": {
  "anaconda-cloud": {},
  "kernelspec": {
   "display_name": "Python [default]",
   "language": "python",
   "name": "python3"
  },
  "language_info": {
   "codemirror_mode": {
    "name": "ipython",
    "version": 3
   },
   "file_extension": ".py",
   "mimetype": "text/x-python",
   "name": "python",
   "nbconvert_exporter": "python",
   "pygments_lexer": "ipython3",
   "version": "3.11.7"
  }
 },
 "nbformat": 4,
 "nbformat_minor": 0
}
