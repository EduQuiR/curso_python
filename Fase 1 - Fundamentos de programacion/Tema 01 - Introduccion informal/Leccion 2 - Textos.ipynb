{
 "cells": [
  {
   "cell_type": "code",
   "execution_count": 1,
   "metadata": {
    "collapsed": true
   },
   "outputs": [
    {
     "name": "stdout",
     "output_type": "stream",
     "text": [
      "Nueva \t tabulacion\n",
      "c:\\nombre\\directorio\n",
      "Una linea\n",
      "Otra linea\n",
      "ootra linea\n"
     ]
    }
   ],
   "source": [
    "print(\"Nueva \\t tabulacion\")\n",
    "print(r\"c:\\nombre\\directorio\")\n",
    "print(\"\"\"Una linea\n",
    "Otra linea\n",
    "ootra linea\"\"\")"
   ]
  },
  {
   "cell_type": "code",
   "execution_count": 2,
   "metadata": {},
   "outputs": [
    {
     "name": "stdout",
     "output_type": "stream",
     "text": [
      "Python es un lenguaje de \n",
      "programación moderno\n"
     ]
    }
   ],
   "source": [
    "# no modifiques el nombre de ninguna variable, pero puedes crear nuevas\n",
    "cadena1 = \"moderno\"\n",
    "cadena2 = \"Python\"\n",
    "cadena4 = \"de \\nprogramación\"\n",
    "cadena3 = \"es un lenguaje\"\n",
    "\n",
    "# completa el ejercicio\n",
    "cadena5 = cadena2 + \" \" + cadena3 + \" \" + cadena4 + \" \" + cadena1\n",
    "print(cadena5) "
   ]
  },
  {
   "cell_type": "markdown",
   "metadata": {},
   "source": [
    "Slicing - Como invertir una cadena\n",
    "\n",
    "- Dentro de los corchetes, :: es un operador de corte (slice) que puede tomar hasta tres argumentos: inicio, fin y paso.\n",
    "- Cuando no se especifica el inicio ni el fin, Python toma todos los elementos de la cadena.\n",
    "- El -1 es el paso, que indica cómo seleccionar los elementos. \n",
    "- Un paso de -1 significa que Python selecciona los elementos de derecha a izquierda, es decir, invierte la cadena."
   ]
  },
  {
   "cell_type": "code",
   "execution_count": 3,
   "metadata": {},
   "outputs": [
    {
     "name": "stdout",
     "output_type": "stream",
     "text": [
      "P\n",
      "Python\n",
      "Python\n",
      "Nython\n"
     ]
    }
   ],
   "source": [
    "#Slicing\n",
    "palabra = \"Python\"\n",
    "\n",
    "print(palabra[0])\n",
    "print(palabra[0:])\n",
    "print(palabra[:99])\n",
    "\n",
    "#Modificar una letra con slicing\n",
    "palabra = \"N\" + palabra[1:]\n",
    "print(palabra)"
   ]
  },
  {
   "cell_type": "code",
   "execution_count": 4,
   "metadata": {},
   "outputs": [
    {
     "name": "stdout",
     "output_type": "stream",
     "text": [
      "Ramón García\n",
      "7.6\n",
      "Historia\n",
      "Ramón García ha sacado un 7.6 en Historia\n"
     ]
    }
   ],
   "source": [
    "# Variables del ejercicio (no las modifiques)\n",
    "cadena_corrupta = \"airotsiH,6.7,aícraG nómaR\"\n",
    "\n",
    "\n",
    "#Voltea la cadena y guárdala en una variable llamada cadena_volteada. Puedes devolver una cadena volteada usando un tercer índice negativo con slicing tal que así: cadena[::-1]\n",
    "cadena_volteada = cadena_corrupta[::-1]\n",
    "\n",
    "#Extrae el nombre y apellido del alumno y almacénalos en una variable llamada nombre.\n",
    "nombre = cadena_volteada[:12]\n",
    "print(nombre)\n",
    "\n",
    "#Extrae la nota y almacénala en una variable llamada nota.\n",
    "nota = cadena_volteada[13:16]\n",
    "print(nota)\n",
    "\n",
    "#Extrae la materia y almacénala en una variable llamada materia.\n",
    "materia = cadena_volteada[17:]\n",
    "print(materia)\n",
    "\n",
    "'''Genera exactamente la siguiente estructura formateando las anteriores variables en una cadena llamada cadena_formateada donde nombre, nota y materia hacen referencia a las variables extraídas:\n",
    "\n",
    "{nombre} ha sacado un {nota} en {materia}\n",
    "Ejemplo:\n",
    "\n",
    "Ramón García ha sacado un 8.1 en Matemáticas'''\n",
    "\n",
    "cadena_formateada = f\"{nombre} ha sacado un {nota} en {materia}\"\n",
    "print(cadena_formateada)\n"
   ]
  }
 ],
 "metadata": {
  "anaconda-cloud": {},
  "kernelspec": {
   "display_name": "Python [default]",
   "language": "python",
   "name": "python3"
  },
  "language_info": {
   "codemirror_mode": {
    "name": "ipython",
    "version": 3
   },
   "file_extension": ".py",
   "mimetype": "text/x-python",
   "name": "python",
   "nbconvert_exporter": "python",
   "pygments_lexer": "ipython3",
   "version": "3.5.2"
  }
 },
 "nbformat": 4,
 "nbformat_minor": 0
}
