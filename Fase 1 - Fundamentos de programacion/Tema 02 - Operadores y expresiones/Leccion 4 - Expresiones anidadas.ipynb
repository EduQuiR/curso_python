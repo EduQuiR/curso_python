{
 "cells": [
  {
   "cell_type": "markdown",
   "metadata": {},
   "source": [
    "## Expresiones anidadas\n",
    "### A partir de dos variables nombre  y edad crea una variable expresion que almacene si se cumplen TODAS las siguientes condiciones encadenando operadores lógicos en una sola línea:\n",
    "\n",
    "- Que nombre sea diferente de cuatro asteriscos.\n",
    "\n",
    "- Que edad sea mayor que 10 y a su vez menor que 18.\n",
    "\n",
    "- Que la longitud del nombre sea mayor o igual que 3 pero a la vez menor que 10.\n",
    "\n",
    "Nota: Utiliza paréntesis para encadenar diferentes conjuntos de expresiones lógicas entre ellas.\n",
    "\n",
    "Por cierto, en este ejercicio edad y nombre se cargarán durante la solución así que no sabes qué contienen, no les des ningún valor manualmente o el test fallará."
   ]
  },
  {
   "cell_type": "code",
   "execution_count": 4,
   "metadata": {},
   "outputs": [
    {
     "name": "stdout",
     "output_type": "stream",
     "text": [
      "False\n",
      "False\n"
     ]
    }
   ],
   "source": [
    "nombre = \"Eduardo\"\n",
    "edad = 39\n",
    "\n",
    "expresion = nombre != \"****\" and ( 10 < edad < 18) and (3 <= len(nombre) < 10)  \n",
    "print(expresion)\n",
    "\n",
    "expresion = (nombre != \"****\" and len(nombre) >= 3 and len(nombre) < 10) and (edad > 10 and edad < 18)\n",
    "print(expresion)\n",
    "\n"
   ]
  }
 ],
 "metadata": {
  "kernelspec": {
   "display_name": "Python 3",
   "language": "python",
   "name": "python3"
  },
  "language_info": {
   "codemirror_mode": {
    "name": "ipython",
    "version": 3
   },
   "file_extension": ".py",
   "mimetype": "text/x-python",
   "name": "python",
   "nbconvert_exporter": "python",
   "pygments_lexer": "ipython3",
   "version": "3.12.1"
  }
 },
 "nbformat": 4,
 "nbformat_minor": 0
}
