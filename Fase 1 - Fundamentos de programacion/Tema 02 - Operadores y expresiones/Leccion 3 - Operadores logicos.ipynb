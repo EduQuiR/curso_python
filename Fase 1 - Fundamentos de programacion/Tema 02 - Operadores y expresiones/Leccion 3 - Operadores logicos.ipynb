{
 "cells": [
  {
   "cell_type": "markdown",
   "metadata": {},
   "source": [
    "## Operaradores Logicos\n",
    "\n",
    "- and -> Operador lógico que devuelve True si ambos operandos (los valores a los lados del operador) son verdaderos. Si no, devuelve False.\n",
    "\n",
    "- or ->  Operador lógico que devuelve True si al menos uno de los operandos (los valores a los lados del operador) es verdadero. Si no, devuelve False.\n",
    "\n",
    "- not ->  Operador lógico que invierte el valor booleano de su operando. "
   ]
  },
  {
   "cell_type": "code",
   "execution_count": 1,
   "metadata": {},
   "outputs": [
    {
     "data": {
      "text/plain": [
       "False"
      ]
     },
     "execution_count": 1,
     "metadata": {},
     "output_type": "execute_result"
    }
   ],
   "source": [
    "not True"
   ]
  }
 ],
 "metadata": {
  "kernelspec": {
   "display_name": "Python 3",
   "language": "python",
   "name": "python3"
  },
  "language_info": {
   "codemirror_mode": {
    "name": "ipython",
    "version": 3
   },
   "file_extension": ".py",
   "mimetype": "text/x-python",
   "name": "python",
   "nbconvert_exporter": "python",
   "pygments_lexer": "ipython3",
   "version": "3.11.7"
  }
 },
 "nbformat": 4,
 "nbformat_minor": 0
}
