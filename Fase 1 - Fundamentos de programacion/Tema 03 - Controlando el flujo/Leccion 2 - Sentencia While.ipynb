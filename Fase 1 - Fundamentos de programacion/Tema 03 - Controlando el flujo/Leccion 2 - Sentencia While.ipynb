{
 "cells": [
  {
   "cell_type": "code",
   "execution_count": 2,
   "metadata": {
    "collapsed": true
   },
   "outputs": [
    {
     "name": "stdout",
     "output_type": "stream",
     "text": [
      "Se ha completado toda la iteracion y c vale 1\n",
      "Se ha completado toda la iteracion y c vale 2\n",
      "Se ha completado toda la iteracion y c vale 3\n",
      "Continuamos con la siguiente iterecion\n",
      "c vale 4\n",
      "Se ha completado toda la iteracion y c vale 5\n",
      "Se ha completado toda la iteracion y c vale 6\n"
     ]
    }
   ],
   "source": [
    "c = 0\n",
    "\n",
    "while c <= 5:\n",
    "    c += 1\n",
    "\n",
    "    if c==4:\n",
    "        print(\"Continuamos con la siguiente iterecion\")\n",
    "        print(\"c vale\", c)  \n",
    "        continue\n",
    "    else:\n",
    "        print(\"Se ha completado toda la iteracion y c vale\", c)\n"
   ]
  },
  {
   "cell_type": "markdown",
   "metadata": {},
   "source": [
    "## Bucle while\n",
    "### Realiza un programa que lea un número por teclado y lo almacene en una variable llamada numero.\n",
    "\n",
    "- Si ese número introducido por teclado no es múltiple de 5 debe repetirse de nuevo la lectura hasta que lo sea.\n",
    "\n",
    "Notas:\n",
    "\n",
    "Debes asegurarte de que la variable numero es un número entero introducido con la instrucción input.\n",
    "\n",
    "Si intentas asignar un múltiple de 5 manualmente a la variable numero la solución fallará."
   ]
  },
  {
   "cell_type": "code",
   "execution_count": 5,
   "metadata": {},
   "outputs": [
    {
     "name": "stdout",
     "output_type": "stream",
     "text": [
      "1 no es multiplo de 5\n",
      "2 no es multiplo de 5\n",
      "3 no es multiplo de 5\n",
      "4 no es multiplo de 5\n",
      "5 es multiplo de 5\n"
     ]
    }
   ],
   "source": [
    "# Completa el ejercicio\n",
    "numero = int(input('ingrese un numero: '))\n",
    "\n",
    "while numero % 5 != 0:\n",
    "    print(f'{numero} no es multiplo de 5')\n",
    "    numero = int(input('Ingrese nuevamente un numero: '))\n",
    "\n",
    "print(f'{numero} es multiplo de 5')"
   ]
  },
  {
   "cell_type": "code",
   "execution_count": 8,
   "metadata": {},
   "outputs": [
    {
     "name": "stdout",
     "output_type": "stream",
     "text": [
      "1\n",
      "2\n",
      "3\n",
      "4\n",
      "5\n",
      "6\n"
     ]
    }
   ],
   "source": [
    "numero = [1,2,3,4,5,6]\n",
    "indice = 0\n",
    "\n",
    "while indice < len(numero):\n",
    "    print(numero[indice])\n",
    "    indice += 1"
   ]
  }
 ],
 "metadata": {
  "kernelspec": {
   "display_name": "Python 3",
   "language": "python",
   "name": "python3"
  },
  "language_info": {
   "codemirror_mode": {
    "name": "ipython",
    "version": 3
   },
   "file_extension": ".py",
   "mimetype": "text/x-python",
   "name": "python",
   "nbconvert_exporter": "python",
   "pygments_lexer": "ipython3",
   "version": "3.12.1"
  }
 },
 "nbformat": 4,
 "nbformat_minor": 0
}
