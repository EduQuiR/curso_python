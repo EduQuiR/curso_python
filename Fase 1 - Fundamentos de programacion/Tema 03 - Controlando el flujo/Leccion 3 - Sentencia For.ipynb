{
 "cells": [
  {
   "cell_type": "code",
   "execution_count": 2,
   "metadata": {
    "collapsed": true
   },
   "outputs": [
    {
     "name": "stdout",
     "output_type": "stream",
     "text": [
      "10\n",
      "20\n",
      "30\n",
      "40\n",
      "50\n",
      "60\n"
     ]
    }
   ],
   "source": [
    "numeros = [1,2,3,4,5,6]\n",
    "\n",
    "for numero in numeros:\n",
    "    print(numero * 10)"
   ]
  },
  {
   "cell_type": "code",
   "execution_count": 3,
   "metadata": {},
   "outputs": [
    {
     "name": "stdout",
     "output_type": "stream",
     "text": [
      "[10, 20, 30, 40, 50, 60]\n"
     ]
    }
   ],
   "source": [
    "indice = 0\n",
    "\n",
    "for numero in numeros:\n",
    "    numeros[indice] *= 10\n",
    "    indice += 1\n",
    "\n",
    "print(numeros)"
   ]
  },
  {
   "cell_type": "code",
   "execution_count": 4,
   "metadata": {},
   "outputs": [
    {
     "name": "stdout",
     "output_type": "stream",
     "text": [
      "[100, 20, 30, 40, 50, 60]\n",
      "[100, 200, 30, 40, 50, 60]\n",
      "[100, 200, 300, 40, 50, 60]\n",
      "[100, 200, 300, 400, 50, 60]\n",
      "[100, 200, 300, 400, 500, 60]\n",
      "[100, 200, 300, 400, 500, 600]\n",
      "[100, 200, 300, 400, 500, 600]\n"
     ]
    }
   ],
   "source": [
    "#Utilizamos la funcion enumerate para asignar un índice a cada elemento de un objeto iterable\n",
    "for indice, numero in enumerate(numeros):\n",
    "    numeros[indice] *= 10\n",
    "    print(numeros)\n",
    "\n",
    "print(numeros)"
   ]
  },
  {
   "cell_type": "markdown",
   "metadata": {},
   "source": [
    "## Bucle for\n",
    "### En este ejercicio se te facilitará un numero aleatorio que no conoces en la variable numero.\n",
    "\n",
    "- Utilizando lo que conoces sobre los bucles for y la función range() , debes realizar un sumatorio de todos los números desde 0 hasta ese numero (incluido) exceptuando los múltiples de 5 y 7, y almacenarlo en la variable sumatorio.\n",
    "\n",
    "- Ejemplo, si numero fuera 7, el sumatorio sería igual a 1+2+3+4+6 = 16.\n",
    "\n",
    "Recuerda, únicamente debes sumar los números NO múltiples de 5 y 7 al sumatorio."
   ]
  },
  {
   "cell_type": "code",
   "execution_count": 7,
   "metadata": {},
   "outputs": [
    {
     "name": "stdout",
     "output_type": "stream",
     "text": [
      "0\n",
      "1\n",
      "2\n",
      "3\n",
      "4\n",
      "5\n",
      "6\n",
      "7\n",
      "8\n",
      "9\n"
     ]
    }
   ],
   "source": [
    "for i in range(10):\n",
    "    print(i)"
   ]
  },
  {
   "cell_type": "code",
   "execution_count": 40,
   "metadata": {},
   "outputs": [
    {
     "name": "stdout",
     "output_type": "stream",
     "text": [
      "1\n",
      "3\n",
      "6\n",
      "10\n",
      "16\n",
      "24\n"
     ]
    }
   ],
   "source": [
    "sumatorio = 0\n",
    "numero = 8\n",
    "\n",
    "for i in range(numero + 1):\n",
    "    if i % 5 == 0 or i % 7 == 0:\n",
    "        continue\n",
    "    else:\n",
    "        sumatorio += i \n",
    "        print(sumatorio)"
   ]
  },
  {
   "cell_type": "markdown",
   "metadata": {},
   "source": [
    "## Funcion enumerate\n",
    "\n",
    "### Asignacion multiple \n",
    "- a, b , c = 1, 2, 3"
   ]
  },
  {
   "cell_type": "code",
   "execution_count": 41,
   "metadata": {},
   "outputs": [
    {
     "name": "stdout",
     "output_type": "stream",
     "text": [
      "0 hola\n",
      "1 2\n",
      "2 3\n",
      "3 [1, 3, 33]\n"
     ]
    }
   ],
   "source": [
    "elementos = ['hola', 2,3,[1,3,33]]\n",
    "\n",
    "for i, e in enumerate(elementos):\n",
    "    print(i,e)"
   ]
  },
  {
   "cell_type": "markdown",
   "metadata": {},
   "source": [
    "## Función enumerate\n",
    "### En este ejercicio se te va a facilitar una variable iniciales que contiene una lista con un número indeterminado de cadenas de texto.\n",
    "\n",
    "- Tu objetivo es modificar las cadenas de esa lista por la letra inicial de cada cadena en la lista utilizando, si lo requieres, la función enumerate.\n",
    "\n",
    "- Supongamos que iniciales tiene el siguiente valor [\"Hola\", \"Mundo\"], tu objetivo sería transformar esos valores a [\"H\", \"M\"].\n",
    "\n",
    "Notas:\n",
    "\n",
    "Recuerda que para modificar los valores en una lista necesitas hacerlo mediante el índice de cada elemento:"
   ]
  },
  {
   "cell_type": "code",
   "execution_count": 80,
   "metadata": {},
   "outputs": [
    {
     "name": "stdout",
     "output_type": "stream",
     "text": [
      "['H', 'Mundo']\n",
      "['H', 'M']\n"
     ]
    }
   ],
   "source": [
    "iniciales = ['Hola', 'Mundo']\n",
    "\n",
    "for posicion, indice in enumerate(iniciales):\n",
    "    iniciales[posicion] = indice[0]\n",
    "    print(iniciales)"
   ]
  },
  {
   "cell_type": "code",
   "execution_count": 86,
   "metadata": {},
   "outputs": [
    {
     "name": "stdout",
     "output_type": "stream",
     "text": [
      "['H', 'Mundo']\n",
      "['H', 'M']\n"
     ]
    }
   ],
   "source": [
    "iniciales = ['Hola', 'Mundo']\n",
    "\n",
    "for posicion, indice in enumerate(iniciales):\n",
    "    iniciales[posicion] = iniciales[posicion][0]\n",
    "    print(iniciales)"
   ]
  },
  {
   "cell_type": "markdown",
   "metadata": {},
   "source": [
    "## Iteraciones y conversiones\n",
    "- Pide al usuario que introduzca un número entero por teclado entre 1 y 9 (ambos incluidos) y guárdalo en la variable numero. Debes asegurarte de que esa variable numero contiene un numero entero del 1 al 9, utiliza un bucle para repetir la lectura hasta que se cumpla esa condición.\n",
    "\n",
    "- Genera una lista llamada multiplos que contenga los múltiplos de numero en el rango de 1 a 100 (ambos incluidos) utilizando la conversión de un range a list con un paso: list(range(Min,Max,Paso)).\n",
    "\n",
    "IMPORTANTE:\n",
    "\n",
    "La función range permite especificar un paso/salto en un tercer argumento, es decir, cada cuantos números se genera uno en el rango. Prueba este ejemplo y saca tus conclusiones, te servirá para solucionar el ejercicio:\n",
    "\n",
    "list(range(0, 30, 5))  # range con salto de 5\n",
    "No olvides que la función range incluye el mínimo pero excluye el máximo.\n",
    "\n",
    "Puedes leer este artículo si necesitas repasar cómo calcular los números múltiplos."
   ]
  },
  {
   "cell_type": "code",
   "execution_count": 101,
   "metadata": {},
   "outputs": [
    {
     "name": "stdout",
     "output_type": "stream",
     "text": [
      "numero correcto\n"
     ]
    }
   ],
   "source": [
    "# Completa el ejercicio \n",
    "numero = int(input('introduce un numero entre el 1 y el 9: ')) \n",
    "\n",
    "while True:\n",
    "    if numero >= 1 and numero <= 9:\n",
    "        print(\"numero correcto\")\n",
    "        break\n",
    "\n",
    "    else:\n",
    "        print('Numero incorrecto')\n",
    "        numero = int(input('Ingrese nuevamente un numero entre 1 y 9: '))\n",
    "    \n",
    "\n"
   ]
  },
  {
   "cell_type": "code",
   "execution_count": 89,
   "metadata": {},
   "outputs": [
    {
     "name": "stdout",
     "output_type": "stream",
     "text": [
      "range(0, 30, 5)\n"
     ]
    }
   ],
   "source": [
    "print(range(0,30,5))"
   ]
  },
  {
   "cell_type": "code",
   "execution_count": 100,
   "metadata": {},
   "outputs": [
    {
     "name": "stdout",
     "output_type": "stream",
     "text": [
      "[2, 4, 6, 8, 10, 12, 14, 16, 18, 20, 22, 24, 26, 28, 30, 32, 34, 36, 38, 40, 42, 44, 46, 48, 50, 52, 54, 56, 58, 60, 62, 64, 66, 68, 70, 72, 74, 76, 78, 80, 82, 84, 86, 88, 90, 92, 94, 96, 98, 100]\n"
     ]
    }
   ],
   "source": [
    "# Pide al usuario que introduzca un número entero por teclado entre 1 y 9 (ambos incluidos)\n",
    "while True:\n",
    "    numero = int(input(\"Por favor, introduce un número entero entre 1 y 9: \"))\n",
    "    if 1 <= numero <= 9:\n",
    "        break\n",
    "    else:\n",
    "        print(\"El número introducido no está en el rango de 1 a 9. Por favor, inténtalo de nuevo.\")\n",
    "\n",
    "# Genera una lista llamada multiplos que contenga los múltiplos de numero en el rango de 1 a 100 (ambos incluidos)\n",
    "multiplos = list(range(numero, 101, numero))\n",
    "\n",
    "print(multiplos)\n"
   ]
  },
  {
   "cell_type": "code",
   "execution_count": 104,
   "metadata": {},
   "outputs": [
    {
     "name": "stdout",
     "output_type": "stream",
     "text": [
      "[5, 10, 15, 20, 25, 30, 35, 40, 45, 50, 55, 60, 65, 70, 75, 80, 85, 90, 95, 100]\n"
     ]
    }
   ],
   "source": [
    "multiplos = []\n",
    " \n",
    "# Empezamos leyendo un número entero por teclado\n",
    "numero = int(input())\n",
    " \n",
    "# Volveremos a leerlo mientras el número no se encuentre entre 1 y 9 (ambos incluidos)\n",
    "while numero < 1 or numero > 9:\n",
    "    numero = int(input())\n",
    " \n",
    "# Generamos con range toda la lista de múltiplos entre el numero y 100\n",
    "multiplos = list(range(numero, 101, numero))\n",
    "print(multiplos)"
   ]
  }
 ],
 "metadata": {
  "kernelspec": {
   "display_name": "Python 3",
   "language": "python",
   "name": "python3"
  },
  "language_info": {
   "codemirror_mode": {
    "name": "ipython",
    "version": 3
   },
   "file_extension": ".py",
   "mimetype": "text/x-python",
   "name": "python",
   "nbconvert_exporter": "python",
   "pygments_lexer": "ipython3",
   "version": "3.12.1"
  }
 },
 "nbformat": 4,
 "nbformat_minor": 0
}
