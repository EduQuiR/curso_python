{
 "cells": [
  {
   "cell_type": "code",
   "execution_count": null,
   "metadata": {
    "collapsed": true
   },
   "outputs": [],
   "source": [
    "n = 0\n",
    "while n < 10:\n",
    "    if (n % 2) == 0:\n",
    "        print(n,'es un número par')\n",
    "    else:\n",
    "        print(n,'es un número impar') \n",
    "    n = n + 1"
   ]
  },
  {
   "cell_type": "code",
   "execution_count": 6,
   "metadata": {},
   "outputs": [
    {
     "name": "stdout",
     "output_type": "stream",
     "text": [
      "esto es un texto -> e\n",
      "esto es un texto -> s\n",
      "esto es un texto -> t\n",
      "esto es un texto -> o\n",
      "esto es un texto ->  \n",
      "esto es un texto -> e\n",
      "esto es un texto -> s\n",
      "esto es un texto ->  \n",
      "esto es un texto -> u\n",
      "esto es un texto -> n\n",
      "esto es un texto ->  \n",
      "esto es un texto -> t\n",
      "esto es un texto -> e\n",
      "esto es un texto -> x\n",
      "esto es un texto -> t\n",
      "esto es un texto -> o\n",
      "(1, 2, 3, 4) -> 1\n",
      "(1, 2, 3, 4) -> 2\n",
      "(1, 2, 3, 4) -> 3\n",
      "(1, 2, 3, 4) -> 4\n",
      "[2, 4, 6] -> 2\n",
      "[2, 4, 6] -> 4\n",
      "[2, 4, 6] -> 6\n"
     ]
    }
   ],
   "source": [
    "lista = [\n",
    "    'esto es un texto',                           # Texto\n",
    "    (1,2,3,4),                          # Tupla\n",
    "    [2,4,6]                             # Lista\n",
    "]\n",
    "\n",
    "for coleccion in lista:\n",
    "    for elemento in coleccion:\n",
    "        print(coleccion, '->', elemento)"
   ]
  },
  {
   "cell_type": "code",
   "execution_count": 11,
   "metadata": {},
   "outputs": [
    {
     "name": "stdout",
     "output_type": "stream",
     "text": [
      "[0, 0, 0]\n",
      "[1, 1, 1]\n",
      "[2, 2, 2]\n",
      "0\n",
      "0\n",
      "0\n",
      "1\n",
      "1\n",
      "1\n",
      "2\n",
      "2\n",
      "2\n",
      "0 0 0 \n",
      "1 1 1 \n",
      "2 2 2 \n"
     ]
    }
   ],
   "source": [
    "tabla = [\n",
    "    [0,0,0],\n",
    "    [1,1,1],\n",
    "    [2,2,2]\n",
    "]    \n",
    "for fila in tabla:\n",
    "    print(fila)\n",
    "\n",
    "for fila in tabla:\n",
    "    for columna in fila:\n",
    "        print(columna)\n",
    "\n",
    "for fila in tabla:\n",
    "    for columna in fila:\n",
    "        print(columna, end = ' ')\n",
    "    print()"
   ]
  },
  {
   "cell_type": "code",
   "execution_count": 12,
   "metadata": {},
   "outputs": [
    {
     "name": "stdout",
     "output_type": "stream",
     "text": [
      "0 0 0 \n",
      "1 1 1 \n",
      "2 2 2 \n"
     ]
    }
   ],
   "source": [
    "for i, fila in enumerate(tabla):\n",
    "    for j, columna in enumerate(fila):\n",
    "        print(tabla[i][j], end = ' ')\n",
    "    print()"
   ]
  },
  {
   "cell_type": "markdown",
   "metadata": {},
   "source": [
    "### Bucles anidados\n",
    "\n",
    "- En este ejercicio se te va a facilitar una variable matriz repleta de números enteros y de la cuál lo único que sabes es que contiene dos dimensiones.\n",
    "\n",
    "- Aquí tienes una estructura de ejemplo ilustrando como se forma (lista con sublistas), muy parecida a una tabla: \n",
    "matriz = [\n",
    "    [8,  7,  0],\n",
    "    [34, 2, -1],\n",
    "    [5, -5, 12]\n",
    "]\n",
    "- El objetivo del ejercicio es modificar su contenido dinámicamente, sustituyendo todos sus números pares por 0 y los impares por 1.\n",
    "\n",
    "- Siguiendo el ejemplo anterior la matriz tal como quedará después de que la modifiques sería así:\n",
    "\n",
    "matriz = [\n",
    "    [0, 1, 0],\n",
    "    [0, 0, 1],\n",
    "    [1, 1, 0]\n",
    "]\n",
    "Notas:\n",
    "\n",
    "Una forma de entender una matriz bidimensional es como una tabla compuesta de filas y columnas.\n",
    "\n",
    "Las filas y columnas se representan como listas anidadas y eso significa que se pueden recorrer mediante bucles for anidados.\n",
    "\n",
    "Comúnmente al índice que recorre las filas se le denomina i y al de las columnas j, tal como muestra la imagen inferior.\n",
    "\n",
    "Para acceder a una posición dinámicamente será necesario entonces utilizar ambos índices, tal que así: matriz[i][j]\n",
    "\n",
    "Recuerda utilizar la función enumerate para conseguir los índices, teniendo en cuenta que primero se recorren las filas y de ellas las columnas, siendo cada columna el propio valor a tratar."
   ]
  },
  {
   "cell_type": "code",
   "execution_count": 10,
   "metadata": {},
   "outputs": [
    {
     "name": "stdout",
     "output_type": "stream",
     "text": [
      "0 1 0 \n",
      "0 0 1 \n",
      "1 1 0 \n"
     ]
    }
   ],
   "source": [
    "matriz = [\n",
    "    [8,  7,  0],\n",
    "    [34, 2, -1],\n",
    "    [5, -5, 12]\n",
    "]\n",
    "\n",
    "\n",
    "for i,fila in enumerate(matriz):\n",
    "    for j,columna in enumerate(fila):\n",
    "        if matriz [i][j] % 2 == 0:\n",
    "            matriz[i][j] = 0\n",
    "            print(matriz[i][j], end=\" \")\n",
    "        else:\n",
    "            matriz[i][j] = 1\n",
    "            print(matriz[i][j], end=\" \")\n",
    "    print()"
   ]
  },
  {
   "cell_type": "code",
   "execution_count": null,
   "metadata": {},
   "outputs": [],
   "source": [
    "# Primero recorremos todas las filas de la matriz con un for\n",
    "# Necesitamos usar un enumerador para poder guardar su índice de fila\n",
    "for i, fila in enumerate(matriz):\n",
    "    # Dentro de cada fila recorremos cada columna con otro for\n",
    "    # Necesitamos usar un enumerador para poder guardar su índice de columna\n",
    "    for j, columna in enumerate(fila):\n",
    "        # A partir de ambos índices podemos comprobar la celda actual\n",
    "        # Si es par asignamos a la celda un 0\n",
    "        if matriz[i][j] % 2 == 0:\n",
    "            matriz[i][j] = 0\n",
    "        # En caso contrario, si es impar, le asignamos un 1\n",
    "        else:\n",
    "            matriz[i][j] = 1"
   ]
  },
  {
   "cell_type": "code",
   "execution_count": 12,
   "metadata": {},
   "outputs": [
    {
     "name": "stdout",
     "output_type": "stream",
     "text": [
      "5\n",
      "4\n",
      "3\n",
      "2\n",
      "1\n"
     ]
    }
   ],
   "source": [
    "c = 5\n",
    " \n",
    "while c > 0:\n",
    "    print(c)\n",
    "    c -= 1"
   ]
  }
 ],
 "metadata": {
  "kernelspec": {
   "display_name": "Python 3",
   "language": "python",
   "name": "python3"
  },
  "language_info": {
   "codemirror_mode": {
    "name": "ipython",
    "version": 3
   },
   "file_extension": ".py",
   "mimetype": "text/x-python",
   "name": "python",
   "nbconvert_exporter": "python",
   "pygments_lexer": "ipython3",
   "version": "3.12.1"
  }
 },
 "nbformat": 4,
 "nbformat_minor": 0
}
