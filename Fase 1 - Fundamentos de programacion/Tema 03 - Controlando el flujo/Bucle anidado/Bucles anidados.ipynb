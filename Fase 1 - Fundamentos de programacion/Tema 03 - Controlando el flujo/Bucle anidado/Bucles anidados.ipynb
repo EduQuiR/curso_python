{
 "cells": [
  {
   "cell_type": "markdown",
   "id": "2abcdfa1",
   "metadata": {},
   "source": [
    "# Bucles anidados\n",
    "\n",
    "Cuando hablamos de las listas en la unidad de introducción informal vimos que es posible almacenar información en sublistas dentro de listas:"
   ]
  },
  {
   "cell_type": "code",
   "execution_count": 61,
   "id": "97c4f6e8",
   "metadata": {},
   "outputs": [
    {
     "name": "stdout",
     "output_type": "stream",
     "text": [
      "['Hola', 10, 'Adiós', [50, 100, 150]]\n"
     ]
    }
   ],
   "source": [
    "lista = [\"Hola\", 10, \"Adiós\", [50, 100, 150]]\n",
    "print(lista)"
   ]
  },
  {
   "cell_type": "markdown",
   "id": "f64f9df1",
   "metadata": {},
   "source": [
    "Aprendimos que podemos utilizar dobles índices para acceder a los elementos de una sublista en una lista:"
   ]
  },
  {
   "cell_type": "code",
   "execution_count": 48,
   "id": "e2996303",
   "metadata": {},
   "outputs": [
    {
     "name": "stdout",
     "output_type": "stream",
     "text": [
      "[50, 100, 150]\n"
     ]
    }
   ],
   "source": [
    "print(lista[-1])"
   ]
  },
  {
   "cell_type": "code",
   "execution_count": 49,
   "id": "fd4223f8",
   "metadata": {},
   "outputs": [
    {
     "name": "stdout",
     "output_type": "stream",
     "text": [
      "50\n"
     ]
    }
   ],
   "source": [
    "print(lista[-1][0])"
   ]
  },
  {
   "cell_type": "code",
   "execution_count": 50,
   "id": "39260ff1",
   "metadata": {},
   "outputs": [
    {
     "name": "stdout",
     "output_type": "stream",
     "text": [
      "150\n"
     ]
    }
   ],
   "source": [
    "print(lista[-1][-1])"
   ]
  },
  {
   "cell_type": "markdown",
   "id": "109db81b",
   "metadata": {},
   "source": [
    "Evidentemente podemos utilizar una sentencia `for` para recorrer los elementos de esa sublista dinámicamente:"
   ]
  },
  {
   "cell_type": "code",
   "execution_count": 62,
   "id": "0fabbb7f",
   "metadata": {},
   "outputs": [
    {
     "name": "stdout",
     "output_type": "stream",
     "text": [
      "50\n",
      "100\n",
      "150\n"
     ]
    }
   ],
   "source": [
    "for numero in lista[-1]:\n",
    "    print(numero)"
   ]
  },
  {
   "cell_type": "markdown",
   "id": "b90348ba",
   "metadata": {},
   "source": [
    "## Colecciones iterables\n",
    "\n",
    "La parte interesante es que, cuando una lista contiene únicamente colecciones iterables, ya sean otras listas, tuplas, diccionarios o incluso cadenas, podemos recorrer esos subelementos dinámicamente mediante bucles `for` anidados:"
   ]
  },
  {
   "cell_type": "code",
   "execution_count": 63,
   "id": "e43c5c73",
   "metadata": {},
   "outputs": [
    {
     "name": "stdout",
     "output_type": "stream",
     "text": [
      "Esto es un texto -> E\n",
      "Esto es un texto -> s\n",
      "Esto es un texto -> t\n",
      "Esto es un texto -> o\n",
      "Esto es un texto ->  \n",
      "Esto es un texto -> e\n",
      "Esto es un texto -> s\n",
      "Esto es un texto ->  \n",
      "Esto es un texto -> u\n",
      "Esto es un texto -> n\n",
      "Esto es un texto ->  \n",
      "Esto es un texto -> t\n",
      "Esto es un texto -> e\n",
      "Esto es un texto -> x\n",
      "Esto es un texto -> t\n",
      "Esto es un texto -> o\n",
      "(1, 5, 10, 15, 20, 25) -> 1\n",
      "(1, 5, 10, 15, 20, 25) -> 5\n",
      "(1, 5, 10, 15, 20, 25) -> 10\n",
      "(1, 5, 10, 15, 20, 25) -> 15\n",
      "(1, 5, 10, 15, 20, 25) -> 20\n",
      "(1, 5, 10, 15, 20, 25) -> 25\n",
      "['Azul', 'Verde', 'Amarillo'] -> Azul\n",
      "['Azul', 'Verde', 'Amarillo'] -> Verde\n",
      "['Azul', 'Verde', 'Amarillo'] -> Amarillo\n"
     ]
    }
   ],
   "source": [
    "lista = [\n",
    "    \"Esto es un texto\",             # cadena\n",
    "    (1, 5, 10, 15, 20, 25),         # tupla\n",
    "    [\"Azul\", \"Verde\", \"Amarillo\"]   # lista\n",
    "]\n",
    "\n",
    "for coleccion in lista:\n",
    "    for subelemento in coleccion:\n",
    "        print(coleccion, '->', subelemento)"
   ]
  },
  {
   "cell_type": "markdown",
   "id": "13792351",
   "metadata": {},
   "source": [
    "## Enumeradores anidados\n",
    "\n",
    "De la misma forma podemos aplicar enumeradores anidados para conseguir el índice final de cada subelemento de una lista de colecciones."
   ]
  },
  {
   "cell_type": "code",
   "execution_count": 53,
   "id": "f1b2f76f",
   "metadata": {},
   "outputs": [
    {
     "name": "stdout",
     "output_type": "stream",
     "text": [
      "Esto es un texto -> E\n",
      "Esto es un texto -> s\n",
      "Esto es un texto -> t\n",
      "Esto es un texto -> o\n",
      "Esto es un texto ->  \n",
      "Esto es un texto -> e\n",
      "Esto es un texto -> s\n",
      "Esto es un texto ->  \n",
      "Esto es un texto -> u\n",
      "Esto es un texto -> n\n",
      "Esto es un texto ->  \n",
      "Esto es un texto -> t\n",
      "Esto es un texto -> e\n",
      "Esto es un texto -> x\n",
      "Esto es un texto -> t\n",
      "Esto es un texto -> o\n",
      "(1, 5, 10, 15, 20, 25) -> 1\n",
      "(1, 5, 10, 15, 20, 25) -> 5\n",
      "(1, 5, 10, 15, 20, 25) -> 10\n",
      "(1, 5, 10, 15, 20, 25) -> 15\n",
      "(1, 5, 10, 15, 20, 25) -> 20\n",
      "(1, 5, 10, 15, 20, 25) -> 25\n",
      "['Azul', 'Verde', 'Amarillo'] -> Azul\n",
      "['Azul', 'Verde', 'Amarillo'] -> Verde\n",
      "['Azul', 'Verde', 'Amarillo'] -> Amarillo\n"
     ]
    }
   ],
   "source": [
    "lista = [\n",
    "    \"Esto es un texto\",             # cadena\n",
    "    (1, 5, 10, 15, 20, 25),         # tupla\n",
    "    [\"Azul\", \"Verde\", \"Amarillo\"]   # lista\n",
    "]\n",
    "\n",
    "for indice_coleccion, coleccion in enumerate(lista):\n",
    "    for indice_subelemento, subelemento in enumerate(coleccion):\n",
    "        print(lista[indice_coleccion], '->', lista[indice_coleccion][indice_subelemento])  # Acceso por indice"
   ]
  },
  {
   "cell_type": "markdown",
   "id": "82725881",
   "metadata": {},
   "source": [
    "## El concepto de dimensión"
   ]
  },
  {
   "cell_type": "markdown",
   "id": "fbdae652",
   "metadata": {},
   "source": [
    "En la práctica los indices anidados se suelen nombrar como los vectores unitarios (i, j, k...), pues cada uno puede entenderse como una dimensión, siendo `i` el índice de la primera dimensión, `j` el de la segunda, `k` el de la tercera... De manera que concuerdan con el nivel de anidación del bucle:"
   ]
  },
  {
   "cell_type": "code",
   "execution_count": 54,
   "id": "7619e2b4",
   "metadata": {},
   "outputs": [
    {
     "name": "stdout",
     "output_type": "stream",
     "text": [
      "Esto es un texto -> E\n",
      "Esto es un texto -> s\n",
      "Esto es un texto -> t\n",
      "Esto es un texto -> o\n",
      "Esto es un texto ->  \n",
      "Esto es un texto -> e\n",
      "Esto es un texto -> s\n",
      "Esto es un texto ->  \n",
      "Esto es un texto -> u\n",
      "Esto es un texto -> n\n",
      "Esto es un texto ->  \n",
      "Esto es un texto -> t\n",
      "Esto es un texto -> e\n",
      "Esto es un texto -> x\n",
      "Esto es un texto -> t\n",
      "Esto es un texto -> o\n",
      "(1, 5, 10, 15, 20, 25) -> 1\n",
      "(1, 5, 10, 15, 20, 25) -> 5\n",
      "(1, 5, 10, 15, 20, 25) -> 10\n",
      "(1, 5, 10, 15, 20, 25) -> 15\n",
      "(1, 5, 10, 15, 20, 25) -> 20\n",
      "(1, 5, 10, 15, 20, 25) -> 25\n",
      "['Azul', 'Verde', 'Amarillo'] -> Azul\n",
      "['Azul', 'Verde', 'Amarillo'] -> Verde\n",
      "['Azul', 'Verde', 'Amarillo'] -> Amarillo\n"
     ]
    }
   ],
   "source": [
    "# For de la primera dimensión\n",
    "for i, coleccion in enumerate(lista):\n",
    "    # For de la segunda dimensión\n",
    "    for j, subelemento in enumerate(coleccion):\n",
    "        print(lista[i], '->', lista[i][j])"
   ]
  },
  {
   "cell_type": "markdown",
   "id": "74322844",
   "metadata": {},
   "source": [
    "## Tablas y cubos\n",
    "\n",
    "Cuando el número de subelementos es constante, tienen el mismo número de subelementos, podemos imaginar las listas de colecciones como tablas y cubos. Por ejemplo una tabla estaría formada por filas, que sería la altura representada por el índice `i` y las columnas o anchura representadas por el índice `j`:\n",
    "\n",
    "![Tabla](./tabla.png)\n",
    "\n",
    "Uniendo ambos índices conseguiríamos la coordenada de cada celda:"
   ]
  },
  {
   "cell_type": "code",
   "execution_count": 55,
   "id": "efebe865",
   "metadata": {},
   "outputs": [
    {
     "name": "stdout",
     "output_type": "stream",
     "text": [
      "0 0 0 \n",
      "1 1 1 \n",
      "2 2 2 \n"
     ]
    }
   ],
   "source": [
    "tabla = [\n",
    "    [0,0,0],  # primera fila\n",
    "    [1,1,1],  # segunda fila\n",
    "    [2,2,2]   # tercera fila\n",
    "]\n",
    "\n",
    "for i,fila in enumerate(tabla):\n",
    "    for j,columna in enumerate(fila):\n",
    "        print(tabla[i][j], end=\" \")\n",
    "    print()"
   ]
  },
  {
   "cell_type": "markdown",
   "id": "1e0745b1",
   "metadata": {},
   "source": [
    "Si extendemos las dos dimensiones de una tabla añadiendo distintas tablas unas tras otras podemos suponer un cubo tridimensional, como un cubo de Rubik. Para acceder a una celda de este cubo necesitamos ahora los tres índices `i` (alto), `j` (ancho) y `k` (profundidad):\n",
    "\n",
    "![Cubo2](./cubo2.png)\n",
    "\n",
    "Podemos programar un cubo uniendo varias tablas en una lista:"
   ]
  },
  {
   "cell_type": "code",
   "execution_count": 56,
   "id": "9310fd73",
   "metadata": {},
   "outputs": [
    {
     "name": "stdout",
     "output_type": "stream",
     "text": [
      "0\n",
      "1\n",
      "2\n"
     ]
    }
   ],
   "source": [
    "tabla = [\n",
    "    [0,0,0],  # primera fila\n",
    "    [1,1,1],  # segunda fila\n",
    "    [2,2,2]   # tercera fila\n",
    "]\n",
    "\n",
    "cubo = [tabla, tabla, tabla]\n",
    "\n",
    "print(cubo[0][0][0])\n",
    "print(cubo[1][1][1])\n",
    "print(cubo[2][2][2])"
   ]
  },
  {
   "cell_type": "markdown",
   "id": "a230ba80",
   "metadata": {},
   "source": [
    "Ahora utilizando tres bucles for anidados podemos recorrer estas tres dimensiones y ubicar todas las celdas del cubo, teniendo en cuenta que `k` sería el índice de cada tabla en el cubo (profundidad), `i` las filas de las tablas (alto) y `j` las columnas (ancho).\n",
    "\n",
    "![Cubo](./cubo.png)"
   ]
  },
  {
   "cell_type": "markdown",
   "id": "2320dd01",
   "metadata": {},
   "source": [
    "De manera que:"
   ]
  },
  {
   "cell_type": "code",
   "execution_count": 57,
   "id": "d59d7d82",
   "metadata": {},
   "outputs": [
    {
     "name": "stdout",
     "output_type": "stream",
     "text": [
      "0 0 0 \n",
      "1 1 1 \n",
      "2 2 2 \n",
      "\n",
      "0 0 0 \n",
      "1 1 1 \n",
      "2 2 2 \n",
      "\n",
      "0 0 0 \n",
      "1 1 1 \n",
      "2 2 2 \n",
      "\n"
     ]
    }
   ],
   "source": [
    "for k,tabla in enumerate(cubo):\n",
    "    for i,fila in enumerate(tabla):\n",
    "        for j,columna in enumerate(fila):\n",
    "            print(cubo[k][i][j], end=\" \")\n",
    "        print()\n",
    "    print()"
   ]
  },
  {
   "cell_type": "markdown",
   "id": "c4ce6ad2",
   "metadata": {},
   "source": [
    "Al final los cubos, tablas, filas, columnas... son formas de visualizar los datos para entenderlos mejor, pero nada nos impediría tener estructuras mucho más complejas con 4, 5, 6 o más dimensiones. En la práctica solo deberíamos anidar más bucles para recorrer cada dimensión extra y obtener la información."
   ]
  },
  {
   "cell_type": "markdown",
   "id": "e379819c",
   "metadata": {},
   "source": [
    "### Bucles anidados\n",
    "\n",
    "- En este ejercicio se te va a facilitar una variable matriz repleta de números enteros y de la cuál lo único que sabes es que contiene dos dimensiones.\n",
    "\n",
    "- Aquí tienes una estructura de ejemplo ilustrando como se forma (lista con sublistas), muy parecida a una tabla: \n",
    "matriz = [\n",
    "    [8,  7,  0],\n",
    "    [34, 2, -1],\n",
    "    [5, -5, 12]\n",
    "]\n",
    "- El objetivo del ejercicio es modificar su contenido dinámicamente, sustituyendo todos sus números pares por 0 y los impares por 1.\n",
    "\n",
    "- Siguiendo el ejemplo anterior la matriz tal como quedará después de que la modifiques sería así:\n",
    "\n",
    "matriz = [\n",
    "    [0, 1, 0],\n",
    "    [0, 0, 1],\n",
    "    [1, 1, 0]\n",
    "]\n",
    "Notas:\n",
    "\n",
    "Una forma de entender una matriz bidimensional es como una tabla compuesta de filas y columnas.\n",
    "\n",
    "Las filas y columnas se representan como listas anidadas y eso significa que se pueden recorrer mediante bucles for anidados.\n",
    "\n",
    "Comúnmente al índice que recorre las filas se le denomina i y al de las columnas j, tal como muestra la imagen inferior.\n",
    "\n",
    "Para acceder a una posición dinámicamente será necesario entonces utilizar ambos índices, tal que así: matriz[i][j]\n",
    "\n",
    "Recuerda utilizar la función enumerate para conseguir los índices, teniendo en cuenta que primero se recorren las filas y de ellas las columnas, siendo cada columna el propio valor a tratar."
   ]
  },
  {
   "cell_type": "code",
   "execution_count": 1,
   "id": "9779c047",
   "metadata": {},
   "outputs": [
    {
     "name": "stdout",
     "output_type": "stream",
     "text": [
      "0 1 0 \n",
      "0 0 1 \n",
      "1 1 0 \n"
     ]
    }
   ],
   "source": [
    "matriz = [\n",
    "    [8,  7,  0],\n",
    "    [34, 2, -1],\n",
    "    [5, -5, 12]\n",
    "]\n",
    "\n",
    "\n",
    "for i,fila in enumerate(matriz):\n",
    "    for j,columna in enumerate(fila):\n",
    "        if matriz [i][j] % 2 == 0:\n",
    "            matriz[i][j] = 0\n",
    "            print(matriz[i][j], end=\" \")\n",
    "        else:\n",
    "            matriz[i][j] = 1\n",
    "            print(matriz[i][j], end=\" \")\n",
    "    print()"
   ]
  }
 ],
 "metadata": {
  "kernelspec": {
   "display_name": "Python 3 (ipykernel)",
   "language": "python",
   "name": "python3"
  },
  "language_info": {
   "codemirror_mode": {
    "name": "ipython",
    "version": 3
   },
   "file_extension": ".py",
   "mimetype": "text/x-python",
   "name": "python",
   "nbconvert_exporter": "python",
   "pygments_lexer": "ipython3",
   "version": "3.12.1"
  }
 },
 "nbformat": 4,
 "nbformat_minor": 5
}
