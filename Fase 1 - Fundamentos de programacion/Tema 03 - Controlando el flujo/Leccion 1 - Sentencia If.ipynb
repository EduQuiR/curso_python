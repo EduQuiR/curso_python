{
 "cells": [
  {
   "cell_type": "markdown",
   "metadata": {
    "collapsed": true
   },
   "source": [
    "## Sentencias:\n",
    "### If (Si)\n",
    "- Permite dividir el flujo de un programa en diferentes caminos.\n",
    "\n",
    "### Elif (Sino Si)\n",
    "- Se encadena a un If para comprobar otra posible condicion, siempre que la expresion anterior no se cumpla\n",
    "\n",
    "### Else (Sino)\n",
    "- Se encadena a un If para indicar el caso contrario, cuando no se cumple la condicion\n"
   ]
  },
  {
   "cell_type": "code",
   "execution_count": 5,
   "metadata": {},
   "outputs": [
    {
     "name": "stdout",
     "output_type": "stream",
     "text": [
      "Se cumple la condicion\n"
     ]
    }
   ],
   "source": [
    "if True:\n",
    "    print(\"Se cumple la condicion\")"
   ]
  },
  {
   "cell_type": "code",
   "execution_count": 6,
   "metadata": {},
   "outputs": [
    {
     "name": "stdout",
     "output_type": "stream",
     "text": [
      "Insuficiente\n"
     ]
    }
   ],
   "source": [
    "nota = float(input('Introduce su nota: '))\n",
    "\n",
    "if nota >= 9: \n",
    "    print(\"Sobresaliente\")\n",
    "elif nota >= 7:\n",
    "    print('Notable')\n",
    "elif nota >= 6:\n",
    "    print('Bien')\n",
    "elif nota >= 5:\n",
    "    print('Suficiente')\n",
    "else:\n",
    "    print('Insuficiente')"
   ]
  },
  {
   "cell_type": "markdown",
   "metadata": {},
   "source": [
    "## Condiciones\n",
    "#### Utilizando una condición if-elif-else debes realizar un programa que compare la longitud de dos variables (cadena_1 y cadena_2) y en función del resultado almacene un valor en otra variable llamada resultado:\n",
    "\n",
    "- Si cadena_1 es más larga que cadena_2 la variable resultado deberá tener el valor entero 1.\n",
    "\n",
    "- Si cadena_1 es más corta que cadena_2 la variable resultado deberá tener el valor entero 2.\n",
    "\n",
    "- Si cadena_1 tiene la misma longitud que cadena_2 la variable resultado deberá tener el valor entero 0.\n",
    "\n",
    "Notas:\n",
    "\n",
    "Las variables cadena_1 y cadena_2 se importan de otro fichero y no puedes editarlas.\n",
    "\n",
    "Recuerda que puedes conseguir la longitud de una cadena usando len(cadena)"
   ]
  },
  {
   "cell_type": "code",
   "execution_count": 7,
   "metadata": {},
   "outputs": [
    {
     "name": "stdout",
     "output_type": "stream",
     "text": [
      "0\n"
     ]
    }
   ],
   "source": [
    "cadena_1 = \"hola\"\n",
    "cadena_2 = \"chau\"\n",
    "\n",
    "# Si cadena_1 es más larga que cadena_2 la variable resultado deberá tener el valor entero 1.\n",
    "if len(cadena_1) > len(cadena_2):\n",
    "    resultado = 1\n",
    "    print(resultado)\n",
    "    \n",
    "# Si cadena_1 es más corta que cadena_2 la variable resultado deberá tener el valor entero 2.\n",
    "elif len(cadena_1) < len(cadena_2):\n",
    "    resultado = 2\n",
    "    print(resultado)\n",
    "    \n",
    "# Si cadena_1 tiene la misma longitud que cadena_2 la variable resultado deberá tener el valor entero 0.\n",
    "else: \n",
    "    resultado = 0\n",
    "    print(resultado)"
   ]
  }
 ],
 "metadata": {
  "kernelspec": {
   "display_name": "Python 3",
   "language": "python",
   "name": "python3"
  },
  "language_info": {
   "codemirror_mode": {
    "name": "ipython",
    "version": 3
   },
   "file_extension": ".py",
   "mimetype": "text/x-python",
   "name": "python",
   "nbconvert_exporter": "python",
   "pygments_lexer": "ipython3",
   "version": "3.12.1"
  }
 },
 "nbformat": 4,
 "nbformat_minor": 0
}
